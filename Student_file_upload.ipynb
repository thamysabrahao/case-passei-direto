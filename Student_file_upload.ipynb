{
 "cells": [
  {
   "cell_type": "code",
   "execution_count": 1,
   "metadata": {
    "collapsed": true
   },
   "outputs": [],
   "source": [
    "import pandas as pd\n",
    "import json\n",
    "import numpy as np\n",
    "import matplotlib.pyplot as plt\n",
    "import seaborn as sns\n",
    "%matplotlib inline\n",
    "sns.set(rc={'figure.figsize':(7.7,7.7)}) # graph size"
   ]
  },
  {
   "cell_type": "code",
   "execution_count": 2,
   "metadata": {},
   "outputs": [
    {
     "name": "stdout",
     "output_type": "stream",
     "text": [
      "('shape - df_file_upload', (50000, 18))\n",
      "<class 'pandas.core.frame.DataFrame'>\n",
      "RangeIndex: 50000 entries, 0 to 49999\n",
      "Data columns (total 18 columns):\n",
      "Active                  50000 non-null object\n",
      "Client                  50000 non-null object\n",
      "Email                   50000 non-null object\n",
      "FileContentObjectId     50000 non-null object\n",
      "FileDownloadTotal       50000 non-null object\n",
      "FileEvaluationTotal     50000 non-null object\n",
      "FileFileUrl             50000 non-null object\n",
      "FileID                  50000 non-null object\n",
      "FilePreviewPageCount    50000 non-null object\n",
      "FileUploadDate          50000 non-null object\n",
      "FirstAccessedPage       44462 non-null object\n",
      "Fullname                50000 non-null object\n",
      "Gender                  50000 non-null object\n",
      "Id                      50000 non-null object\n",
      "IsMobileRegister        50000 non-null object\n",
      "LastLoginDate           50000 non-null object\n",
      "RegisteredDate          50000 non-null object\n",
      "UploadCount             50000 non-null object\n",
      "dtypes: object(18)\n",
      "memory usage: 6.9+ MB\n",
      "None\n"
     ]
    },
    {
     "data": {
      "text/html": [
       "<div>\n",
       "<style>\n",
       "    .dataframe thead tr:only-child th {\n",
       "        text-align: right;\n",
       "    }\n",
       "\n",
       "    .dataframe thead th {\n",
       "        text-align: left;\n",
       "    }\n",
       "\n",
       "    .dataframe tbody tr th {\n",
       "        vertical-align: top;\n",
       "    }\n",
       "</style>\n",
       "<table border=\"1\" class=\"dataframe\">\n",
       "  <thead>\n",
       "    <tr style=\"text-align: right;\">\n",
       "      <th></th>\n",
       "      <th>Active</th>\n",
       "      <th>Client</th>\n",
       "      <th>Email</th>\n",
       "      <th>FileContentObjectId</th>\n",
       "      <th>FileDownloadTotal</th>\n",
       "      <th>FileEvaluationTotal</th>\n",
       "      <th>FileFileUrl</th>\n",
       "      <th>FileID</th>\n",
       "      <th>FilePreviewPageCount</th>\n",
       "      <th>FileUploadDate</th>\n",
       "      <th>FirstAccessedPage</th>\n",
       "      <th>Fullname</th>\n",
       "      <th>Gender</th>\n",
       "      <th>Id</th>\n",
       "      <th>IsMobileRegister</th>\n",
       "      <th>LastLoginDate</th>\n",
       "      <th>RegisteredDate</th>\n",
       "      <th>UploadCount</th>\n",
       "    </tr>\n",
       "  </thead>\n",
       "  <tbody>\n",
       "    <tr>\n",
       "      <th>0</th>\n",
       "      <td>true</td>\n",
       "      <td>Website</td>\n",
       "      <td>marciopacheco.adm@hotmail.com</td>\n",
       "      <td>1504424</td>\n",
       "      <td>0</td>\n",
       "      <td>0</td>\n",
       "      <td>508499d3-1ff6-4ad8-8abf-108f098090d6</td>\n",
       "      <td>17769351</td>\n",
       "      <td>0</td>\n",
       "      <td>2015-12-07 18:36:41</td>\n",
       "      <td>https://www.passeidireto.com/</td>\n",
       "      <td>MárcioAlexandre</td>\n",
       "      <td>false</td>\n",
       "      <td>17762846</td>\n",
       "      <td>false</td>\n",
       "      <td>2015-12-07 14:55:16</td>\n",
       "      <td>2015-12-07 14:55:15</td>\n",
       "      <td>0</td>\n",
       "    </tr>\n",
       "    <tr>\n",
       "      <th>1</th>\n",
       "      <td>true</td>\n",
       "      <td>Website</td>\n",
       "      <td>marciopacheco.adm@hotmail.com</td>\n",
       "      <td>1504424</td>\n",
       "      <td>0</td>\n",
       "      <td>0</td>\n",
       "      <td>29b9a95f-adfd-416d-b696-b0a7332691ab</td>\n",
       "      <td>17769346</td>\n",
       "      <td>0</td>\n",
       "      <td>2015-12-07 18:36:30</td>\n",
       "      <td>https://www.passeidireto.com/</td>\n",
       "      <td>MárcioAlexandre</td>\n",
       "      <td>false</td>\n",
       "      <td>17762846</td>\n",
       "      <td>false</td>\n",
       "      <td>2015-12-07 14:55:16</td>\n",
       "      <td>2015-12-07 14:55:15</td>\n",
       "      <td>0</td>\n",
       "    </tr>\n",
       "    <tr>\n",
       "      <th>2</th>\n",
       "      <td>true</td>\n",
       "      <td>Website</td>\n",
       "      <td>marciopacheco.adm@hotmail.com</td>\n",
       "      <td>1504424</td>\n",
       "      <td>0</td>\n",
       "      <td>0</td>\n",
       "      <td>ab294c4f-cba9-4765-9b18-b3d86aa762a8</td>\n",
       "      <td>17769342</td>\n",
       "      <td>0</td>\n",
       "      <td>2015-12-07 18:36:18</td>\n",
       "      <td>https://www.passeidireto.com/</td>\n",
       "      <td>MárcioAlexandre</td>\n",
       "      <td>false</td>\n",
       "      <td>17762846</td>\n",
       "      <td>false</td>\n",
       "      <td>2015-12-07 14:55:16</td>\n",
       "      <td>2015-12-07 14:55:15</td>\n",
       "      <td>0</td>\n",
       "    </tr>\n",
       "    <tr>\n",
       "      <th>3</th>\n",
       "      <td>true</td>\n",
       "      <td>Website</td>\n",
       "      <td>marciopacheco.adm@hotmail.com</td>\n",
       "      <td>1504424</td>\n",
       "      <td>0</td>\n",
       "      <td>0</td>\n",
       "      <td>b3904a21-9cc7-4e5c-b23f-e529d0aec8db</td>\n",
       "      <td>17769336</td>\n",
       "      <td>0</td>\n",
       "      <td>2015-12-07 18:36:03</td>\n",
       "      <td>https://www.passeidireto.com/</td>\n",
       "      <td>MárcioAlexandre</td>\n",
       "      <td>false</td>\n",
       "      <td>17762846</td>\n",
       "      <td>false</td>\n",
       "      <td>2015-12-07 14:55:16</td>\n",
       "      <td>2015-12-07 14:55:15</td>\n",
       "      <td>0</td>\n",
       "    </tr>\n",
       "    <tr>\n",
       "      <th>4</th>\n",
       "      <td>true</td>\n",
       "      <td>Website</td>\n",
       "      <td>marciopacheco.adm@hotmail.com</td>\n",
       "      <td>1504424</td>\n",
       "      <td>0</td>\n",
       "      <td>0</td>\n",
       "      <td>80af3287-0400-4c40-82aa-c60364024f69</td>\n",
       "      <td>17769332</td>\n",
       "      <td>0</td>\n",
       "      <td>2015-12-07 18:35:45</td>\n",
       "      <td>https://www.passeidireto.com/</td>\n",
       "      <td>MárcioAlexandre</td>\n",
       "      <td>false</td>\n",
       "      <td>17762846</td>\n",
       "      <td>false</td>\n",
       "      <td>2015-12-07 14:55:16</td>\n",
       "      <td>2015-12-07 14:55:15</td>\n",
       "      <td>0</td>\n",
       "    </tr>\n",
       "  </tbody>\n",
       "</table>\n",
       "</div>"
      ],
      "text/plain": [
       "  Active   Client                          Email FileContentObjectId  \\\n",
       "0   true  Website  marciopacheco.adm@hotmail.com             1504424   \n",
       "1   true  Website  marciopacheco.adm@hotmail.com             1504424   \n",
       "2   true  Website  marciopacheco.adm@hotmail.com             1504424   \n",
       "3   true  Website  marciopacheco.adm@hotmail.com             1504424   \n",
       "4   true  Website  marciopacheco.adm@hotmail.com             1504424   \n",
       "\n",
       "  FileDownloadTotal FileEvaluationTotal                           FileFileUrl  \\\n",
       "0                 0                   0  508499d3-1ff6-4ad8-8abf-108f098090d6   \n",
       "1                 0                   0  29b9a95f-adfd-416d-b696-b0a7332691ab   \n",
       "2                 0                   0  ab294c4f-cba9-4765-9b18-b3d86aa762a8   \n",
       "3                 0                   0  b3904a21-9cc7-4e5c-b23f-e529d0aec8db   \n",
       "4                 0                   0  80af3287-0400-4c40-82aa-c60364024f69   \n",
       "\n",
       "     FileID FilePreviewPageCount       FileUploadDate  \\\n",
       "0  17769351                    0  2015-12-07 18:36:41   \n",
       "1  17769346                    0  2015-12-07 18:36:30   \n",
       "2  17769342                    0  2015-12-07 18:36:18   \n",
       "3  17769336                    0  2015-12-07 18:36:03   \n",
       "4  17769332                    0  2015-12-07 18:35:45   \n",
       "\n",
       "               FirstAccessedPage         Fullname Gender        Id  \\\n",
       "0  https://www.passeidireto.com/  MárcioAlexandre  false  17762846   \n",
       "1  https://www.passeidireto.com/  MárcioAlexandre  false  17762846   \n",
       "2  https://www.passeidireto.com/  MárcioAlexandre  false  17762846   \n",
       "3  https://www.passeidireto.com/  MárcioAlexandre  false  17762846   \n",
       "4  https://www.passeidireto.com/  MárcioAlexandre  false  17762846   \n",
       "\n",
       "  IsMobileRegister        LastLoginDate       RegisteredDate UploadCount  \n",
       "0            false  2015-12-07 14:55:16  2015-12-07 14:55:15           0  \n",
       "1            false  2015-12-07 14:55:16  2015-12-07 14:55:15           0  \n",
       "2            false  2015-12-07 14:55:16  2015-12-07 14:55:15           0  \n",
       "3            false  2015-12-07 14:55:16  2015-12-07 14:55:15           0  \n",
       "4            false  2015-12-07 14:55:16  2015-12-07 14:55:15           0  "
      ]
     },
     "execution_count": 2,
     "metadata": {},
     "output_type": "execute_result"
    }
   ],
   "source": [
    "with open(\"student_file_upload.json\", \"r\") as f:\n",
    "    data_s_file_upload = json.load(f)\n",
    "    \n",
    "df_file_upload = pd.DataFrame(data_s_file_upload['student_file_upload']) \n",
    "df_file_upload.replace('', np.nan, inplace=True)\n",
    "\n",
    "print('shape - df_file_upload', df_file_upload.shape)\n",
    "print(df_file_upload.info())\n",
    "df_file_upload.head()"
   ]
  },
  {
   "cell_type": "code",
   "execution_count": 3,
   "metadata": {},
   "outputs": [
    {
     "data": {
      "text/html": [
       "<div>\n",
       "<style>\n",
       "    .dataframe thead tr:only-child th {\n",
       "        text-align: right;\n",
       "    }\n",
       "\n",
       "    .dataframe thead th {\n",
       "        text-align: left;\n",
       "    }\n",
       "\n",
       "    .dataframe tbody tr th {\n",
       "        vertical-align: top;\n",
       "    }\n",
       "</style>\n",
       "<table border=\"1\" class=\"dataframe\">\n",
       "  <thead>\n",
       "    <tr style=\"text-align: right;\">\n",
       "      <th></th>\n",
       "      <th>Active</th>\n",
       "      <th>Client</th>\n",
       "      <th>Email</th>\n",
       "      <th>FileContentObjectId</th>\n",
       "      <th>FileDownloadTotal</th>\n",
       "      <th>FileEvaluationTotal</th>\n",
       "      <th>FileFileUrl</th>\n",
       "      <th>FileID</th>\n",
       "      <th>FilePreviewPageCount</th>\n",
       "      <th>FileUploadDate</th>\n",
       "      <th>FirstAccessedPage</th>\n",
       "      <th>Fullname</th>\n",
       "      <th>Gender</th>\n",
       "      <th>Id</th>\n",
       "      <th>IsMobileRegister</th>\n",
       "      <th>LastLoginDate</th>\n",
       "      <th>RegisteredDate</th>\n",
       "      <th>UploadCount</th>\n",
       "    </tr>\n",
       "  </thead>\n",
       "  <tbody>\n",
       "    <tr>\n",
       "      <th>49995</th>\n",
       "      <td>true</td>\n",
       "      <td>Website</td>\n",
       "      <td>vl_lopesalmeidavalber@hotmail.com</td>\n",
       "      <td>1550625</td>\n",
       "      <td>9</td>\n",
       "      <td>2</td>\n",
       "      <td>3034534e-0a0c-4f74-82a7-2842706a2772</td>\n",
       "      <td>11139406</td>\n",
       "      <td>50</td>\n",
       "      <td>2015-09-04 16:58:15</td>\n",
       "      <td>https://www.passeidireto.com/arquivo/6091871/d...</td>\n",
       "      <td>VALDECIRLOPES DE ALMEIDA</td>\n",
       "      <td>false</td>\n",
       "      <td>6241765</td>\n",
       "      <td>false</td>\n",
       "      <td>2015-11-25 12:20:18</td>\n",
       "      <td>2015-05-15 12:31:34</td>\n",
       "      <td>0</td>\n",
       "    </tr>\n",
       "    <tr>\n",
       "      <th>49996</th>\n",
       "      <td>true</td>\n",
       "      <td>Website</td>\n",
       "      <td>vl_lopesalmeidavalber@hotmail.com</td>\n",
       "      <td>1550625</td>\n",
       "      <td>10</td>\n",
       "      <td>1</td>\n",
       "      <td>d300e945-1401-4f2d-9fae-9e41b4e2f8e9</td>\n",
       "      <td>11139332</td>\n",
       "      <td>4</td>\n",
       "      <td>2015-09-04 16:53:56</td>\n",
       "      <td>https://www.passeidireto.com/arquivo/6091871/d...</td>\n",
       "      <td>VALDECIRLOPES DE ALMEIDA</td>\n",
       "      <td>false</td>\n",
       "      <td>6241765</td>\n",
       "      <td>false</td>\n",
       "      <td>2015-11-25 12:20:18</td>\n",
       "      <td>2015-05-15 12:31:34</td>\n",
       "      <td>0</td>\n",
       "    </tr>\n",
       "    <tr>\n",
       "      <th>49997</th>\n",
       "      <td>true</td>\n",
       "      <td>Website</td>\n",
       "      <td>vl_lopesalmeidavalber@hotmail.com</td>\n",
       "      <td>1550625</td>\n",
       "      <td>2</td>\n",
       "      <td>1</td>\n",
       "      <td>214f39ec-f1c2-4ff7-b239-f048d297b552</td>\n",
       "      <td>11139286</td>\n",
       "      <td>1</td>\n",
       "      <td>2015-09-04 16:50:24</td>\n",
       "      <td>https://www.passeidireto.com/arquivo/6091871/d...</td>\n",
       "      <td>VALDECIRLOPES DE ALMEIDA</td>\n",
       "      <td>false</td>\n",
       "      <td>6241765</td>\n",
       "      <td>false</td>\n",
       "      <td>2015-11-25 12:20:18</td>\n",
       "      <td>2015-05-15 12:31:34</td>\n",
       "      <td>0</td>\n",
       "    </tr>\n",
       "    <tr>\n",
       "      <th>49998</th>\n",
       "      <td>true</td>\n",
       "      <td>Website</td>\n",
       "      <td>vl_lopesalmeidavalber@hotmail.com</td>\n",
       "      <td>1550625</td>\n",
       "      <td>14</td>\n",
       "      <td>1</td>\n",
       "      <td>5bde2475-99a5-47d8-8969-c9fe27a8cf9a</td>\n",
       "      <td>11139269</td>\n",
       "      <td>25</td>\n",
       "      <td>2015-09-04 16:49:14</td>\n",
       "      <td>https://www.passeidireto.com/arquivo/6091871/d...</td>\n",
       "      <td>VALDECIRLOPES DE ALMEIDA</td>\n",
       "      <td>false</td>\n",
       "      <td>6241765</td>\n",
       "      <td>false</td>\n",
       "      <td>2015-11-25 12:20:18</td>\n",
       "      <td>2015-05-15 12:31:34</td>\n",
       "      <td>0</td>\n",
       "    </tr>\n",
       "    <tr>\n",
       "      <th>49999</th>\n",
       "      <td>true</td>\n",
       "      <td>Website</td>\n",
       "      <td>vl_lopesalmeidavalber@hotmail.com</td>\n",
       "      <td>1550625</td>\n",
       "      <td>8</td>\n",
       "      <td>3</td>\n",
       "      <td>b1ec97c1-d30d-46f7-95a6-a7383984c982</td>\n",
       "      <td>11139254</td>\n",
       "      <td>1</td>\n",
       "      <td>2015-09-04 16:47:54</td>\n",
       "      <td>https://www.passeidireto.com/arquivo/6091871/d...</td>\n",
       "      <td>VALDECIRLOPES DE ALMEIDA</td>\n",
       "      <td>false</td>\n",
       "      <td>6241765</td>\n",
       "      <td>false</td>\n",
       "      <td>2015-11-25 12:20:18</td>\n",
       "      <td>2015-05-15 12:31:34</td>\n",
       "      <td>0</td>\n",
       "    </tr>\n",
       "  </tbody>\n",
       "</table>\n",
       "</div>"
      ],
      "text/plain": [
       "      Active   Client                              Email FileContentObjectId  \\\n",
       "49995   true  Website  vl_lopesalmeidavalber@hotmail.com             1550625   \n",
       "49996   true  Website  vl_lopesalmeidavalber@hotmail.com             1550625   \n",
       "49997   true  Website  vl_lopesalmeidavalber@hotmail.com             1550625   \n",
       "49998   true  Website  vl_lopesalmeidavalber@hotmail.com             1550625   \n",
       "49999   true  Website  vl_lopesalmeidavalber@hotmail.com             1550625   \n",
       "\n",
       "      FileDownloadTotal FileEvaluationTotal  \\\n",
       "49995                 9                   2   \n",
       "49996                10                   1   \n",
       "49997                 2                   1   \n",
       "49998                14                   1   \n",
       "49999                 8                   3   \n",
       "\n",
       "                                FileFileUrl    FileID FilePreviewPageCount  \\\n",
       "49995  3034534e-0a0c-4f74-82a7-2842706a2772  11139406                   50   \n",
       "49996  d300e945-1401-4f2d-9fae-9e41b4e2f8e9  11139332                    4   \n",
       "49997  214f39ec-f1c2-4ff7-b239-f048d297b552  11139286                    1   \n",
       "49998  5bde2475-99a5-47d8-8969-c9fe27a8cf9a  11139269                   25   \n",
       "49999  b1ec97c1-d30d-46f7-95a6-a7383984c982  11139254                    1   \n",
       "\n",
       "            FileUploadDate                                  FirstAccessedPage  \\\n",
       "49995  2015-09-04 16:58:15  https://www.passeidireto.com/arquivo/6091871/d...   \n",
       "49996  2015-09-04 16:53:56  https://www.passeidireto.com/arquivo/6091871/d...   \n",
       "49997  2015-09-04 16:50:24  https://www.passeidireto.com/arquivo/6091871/d...   \n",
       "49998  2015-09-04 16:49:14  https://www.passeidireto.com/arquivo/6091871/d...   \n",
       "49999  2015-09-04 16:47:54  https://www.passeidireto.com/arquivo/6091871/d...   \n",
       "\n",
       "                       Fullname Gender       Id IsMobileRegister  \\\n",
       "49995  VALDECIRLOPES DE ALMEIDA  false  6241765            false   \n",
       "49996  VALDECIRLOPES DE ALMEIDA  false  6241765            false   \n",
       "49997  VALDECIRLOPES DE ALMEIDA  false  6241765            false   \n",
       "49998  VALDECIRLOPES DE ALMEIDA  false  6241765            false   \n",
       "49999  VALDECIRLOPES DE ALMEIDA  false  6241765            false   \n",
       "\n",
       "             LastLoginDate       RegisteredDate UploadCount  \n",
       "49995  2015-11-25 12:20:18  2015-05-15 12:31:34           0  \n",
       "49996  2015-11-25 12:20:18  2015-05-15 12:31:34           0  \n",
       "49997  2015-11-25 12:20:18  2015-05-15 12:31:34           0  \n",
       "49998  2015-11-25 12:20:18  2015-05-15 12:31:34           0  \n",
       "49999  2015-11-25 12:20:18  2015-05-15 12:31:34           0  "
      ]
     },
     "execution_count": 3,
     "metadata": {},
     "output_type": "execute_result"
    }
   ],
   "source": [
    "df_file_upload.tail()"
   ]
  },
  {
   "cell_type": "markdown",
   "metadata": {},
   "source": [
    "# tempo de cadastro dos usuários que fazem upload"
   ]
  },
  {
   "cell_type": "code",
   "execution_count": 4,
   "metadata": {
    "collapsed": true
   },
   "outputs": [],
   "source": [
    "for i in {'LastLoginDate', 'RegisteredDate'}:\n",
    "    df_file_upload[i] = pd.to_datetime(df_file_upload[i])"
   ]
  },
  {
   "cell_type": "code",
   "execution_count": 5,
   "metadata": {
    "collapsed": true
   },
   "outputs": [],
   "source": [
    "df_file_upload['tempo_user'] = df_file_upload['LastLoginDate'] - df_file_upload['RegisteredDate']"
   ]
  },
  {
   "cell_type": "code",
   "execution_count": 6,
   "metadata": {
    "collapsed": true
   },
   "outputs": [],
   "source": [
    "df_file_upload['tempo_user'] = df_file_upload['tempo_user'].dt.days\n",
    "df_file_upload['tempo_user'] = df_file_upload['tempo_user'].astype(float)\n",
    "df_file_upload.tempo_user = df_file_upload.tempo_user.replace(-1, 0)"
   ]
  },
  {
   "cell_type": "code",
   "execution_count": 7,
   "metadata": {},
   "outputs": [
    {
     "data": {
      "text/html": [
       "<div>\n",
       "<style>\n",
       "    .dataframe thead tr:only-child th {\n",
       "        text-align: right;\n",
       "    }\n",
       "\n",
       "    .dataframe thead th {\n",
       "        text-align: left;\n",
       "    }\n",
       "\n",
       "    .dataframe tbody tr th {\n",
       "        vertical-align: top;\n",
       "    }\n",
       "</style>\n",
       "<table border=\"1\" class=\"dataframe\">\n",
       "  <thead>\n",
       "    <tr style=\"text-align: right;\">\n",
       "      <th></th>\n",
       "      <th>LastLoginDate</th>\n",
       "      <th>RegisteredDate</th>\n",
       "      <th>tempo_user</th>\n",
       "    </tr>\n",
       "  </thead>\n",
       "  <tbody>\n",
       "    <tr>\n",
       "      <th>49995</th>\n",
       "      <td>2015-11-25 12:20:18</td>\n",
       "      <td>2015-05-15 12:31:34</td>\n",
       "      <td>193.0</td>\n",
       "    </tr>\n",
       "    <tr>\n",
       "      <th>49996</th>\n",
       "      <td>2015-11-25 12:20:18</td>\n",
       "      <td>2015-05-15 12:31:34</td>\n",
       "      <td>193.0</td>\n",
       "    </tr>\n",
       "    <tr>\n",
       "      <th>49997</th>\n",
       "      <td>2015-11-25 12:20:18</td>\n",
       "      <td>2015-05-15 12:31:34</td>\n",
       "      <td>193.0</td>\n",
       "    </tr>\n",
       "    <tr>\n",
       "      <th>49998</th>\n",
       "      <td>2015-11-25 12:20:18</td>\n",
       "      <td>2015-05-15 12:31:34</td>\n",
       "      <td>193.0</td>\n",
       "    </tr>\n",
       "    <tr>\n",
       "      <th>49999</th>\n",
       "      <td>2015-11-25 12:20:18</td>\n",
       "      <td>2015-05-15 12:31:34</td>\n",
       "      <td>193.0</td>\n",
       "    </tr>\n",
       "  </tbody>\n",
       "</table>\n",
       "</div>"
      ],
      "text/plain": [
       "            LastLoginDate      RegisteredDate  tempo_user\n",
       "49995 2015-11-25 12:20:18 2015-05-15 12:31:34       193.0\n",
       "49996 2015-11-25 12:20:18 2015-05-15 12:31:34       193.0\n",
       "49997 2015-11-25 12:20:18 2015-05-15 12:31:34       193.0\n",
       "49998 2015-11-25 12:20:18 2015-05-15 12:31:34       193.0\n",
       "49999 2015-11-25 12:20:18 2015-05-15 12:31:34       193.0"
      ]
     },
     "execution_count": 7,
     "metadata": {},
     "output_type": "execute_result"
    }
   ],
   "source": [
    "df_file_upload[['LastLoginDate', 'RegisteredDate', 'tempo_user']].tail()"
   ]
  },
  {
   "cell_type": "code",
   "execution_count": 8,
   "metadata": {},
   "outputs": [
    {
     "data": {
      "text/html": [
       "<div>\n",
       "<style>\n",
       "    .dataframe thead tr:only-child th {\n",
       "        text-align: right;\n",
       "    }\n",
       "\n",
       "    .dataframe thead th {\n",
       "        text-align: left;\n",
       "    }\n",
       "\n",
       "    .dataframe tbody tr th {\n",
       "        vertical-align: top;\n",
       "    }\n",
       "</style>\n",
       "<table border=\"1\" class=\"dataframe\">\n",
       "  <thead>\n",
       "    <tr style=\"text-align: right;\">\n",
       "      <th></th>\n",
       "      <th>Id</th>\n",
       "      <th>tempo_user</th>\n",
       "    </tr>\n",
       "  </thead>\n",
       "  <tbody>\n",
       "    <tr>\n",
       "      <th>0</th>\n",
       "      <td>10032582</td>\n",
       "      <td>121.0</td>\n",
       "    </tr>\n",
       "    <tr>\n",
       "      <th>1</th>\n",
       "      <td>10314710</td>\n",
       "      <td>115.0</td>\n",
       "    </tr>\n",
       "    <tr>\n",
       "      <th>2</th>\n",
       "      <td>10435407</td>\n",
       "      <td>54.0</td>\n",
       "    </tr>\n",
       "    <tr>\n",
       "      <th>3</th>\n",
       "      <td>10615607</td>\n",
       "      <td>9.0</td>\n",
       "    </tr>\n",
       "    <tr>\n",
       "      <th>4</th>\n",
       "      <td>10752175</td>\n",
       "      <td>109.0</td>\n",
       "    </tr>\n",
       "  </tbody>\n",
       "</table>\n",
       "</div>"
      ],
      "text/plain": [
       "         Id  tempo_user\n",
       "0  10032582       121.0\n",
       "1  10314710       115.0\n",
       "2  10435407        54.0\n",
       "3  10615607         9.0\n",
       "4  10752175       109.0"
      ]
     },
     "execution_count": 8,
     "metadata": {},
     "output_type": "execute_result"
    }
   ],
   "source": [
    "df = df_file_upload.groupby('Id')['tempo_user'].max().reset_index()\n",
    "df.head()"
   ]
  },
  {
   "cell_type": "code",
   "execution_count": 9,
   "metadata": {},
   "outputs": [
    {
     "data": {
      "text/html": [
       "<div>\n",
       "<style>\n",
       "    .dataframe thead tr:only-child th {\n",
       "        text-align: right;\n",
       "    }\n",
       "\n",
       "    .dataframe thead th {\n",
       "        text-align: left;\n",
       "    }\n",
       "\n",
       "    .dataframe tbody tr th {\n",
       "        vertical-align: top;\n",
       "    }\n",
       "</style>\n",
       "<table border=\"1\" class=\"dataframe\">\n",
       "  <thead>\n",
       "    <tr style=\"text-align: right;\">\n",
       "      <th></th>\n",
       "      <th>Id</th>\n",
       "      <th>tempo_user</th>\n",
       "    </tr>\n",
       "  </thead>\n",
       "  <tbody>\n",
       "    <tr>\n",
       "      <th>7048</th>\n",
       "      <td>6244000</td>\n",
       "      <td>205.0</td>\n",
       "    </tr>\n",
       "    <tr>\n",
       "      <th>7112</th>\n",
       "      <td>6252042</td>\n",
       "      <td>204.0</td>\n",
       "    </tr>\n",
       "    <tr>\n",
       "      <th>7143</th>\n",
       "      <td>6255211</td>\n",
       "      <td>203.0</td>\n",
       "    </tr>\n",
       "    <tr>\n",
       "      <th>7077</th>\n",
       "      <td>6248658</td>\n",
       "      <td>203.0</td>\n",
       "    </tr>\n",
       "    <tr>\n",
       "      <th>7055</th>\n",
       "      <td>6245261</td>\n",
       "      <td>203.0</td>\n",
       "    </tr>\n",
       "  </tbody>\n",
       "</table>\n",
       "</div>"
      ],
      "text/plain": [
       "           Id  tempo_user\n",
       "7048  6244000       205.0\n",
       "7112  6252042       204.0\n",
       "7143  6255211       203.0\n",
       "7077  6248658       203.0\n",
       "7055  6245261       203.0"
      ]
     },
     "execution_count": 9,
     "metadata": {},
     "output_type": "execute_result"
    }
   ],
   "source": [
    "df.sort_values(by='tempo_user', ascending=False, inplace=True)\n",
    "df.head()"
   ]
  },
  {
   "cell_type": "code",
   "execution_count": 10,
   "metadata": {},
   "outputs": [
    {
     "name": "stdout",
     "output_type": "stream",
     "text": [
      "('media', 69.72614259597806)\n",
      "('median', 62.0)\n"
     ]
    }
   ],
   "source": [
    "print('media', df['tempo_user'].mean())\n",
    "print('median', df['tempo_user'].median())"
   ]
  },
  {
   "cell_type": "code",
   "execution_count": 11,
   "metadata": {},
   "outputs": [
    {
     "data": {
      "image/png": "[encoded data removed]",
      "text/plain": [
       "<matplotlib.figure.Figure at 0x7f2b61364390>"
      ]
     },
     "metadata": {},
     "output_type": "display_data"
    }
   ],
   "source": [
    "plt.hist(df['tempo_user'], alpha=0.7, color='orange')\n",
    "\n",
    "plt.xlabel('tempo de cadastro do usuario (em dias)')  \n",
    "plt.ylabel('frequencia');\n",
    "plt.savefig('hist_tempo_user_upload.png', dpi=100);"
   ]
  },
  {
   "cell_type": "markdown",
   "metadata": {},
   "source": [
    "# total de uploads por Id"
   ]
  },
  {
   "cell_type": "code",
   "execution_count": 12,
   "metadata": {},
   "outputs": [
    {
     "data": {
      "text/plain": [
       "10940"
      ]
     },
     "execution_count": 12,
     "metadata": {},
     "output_type": "execute_result"
    }
   ],
   "source": [
    "ids_unicos = df_file_upload['Id'].drop_duplicates().dropna()\n",
    "len(ids_unicos)"
   ]
  },
  {
   "cell_type": "code",
   "execution_count": 13,
   "metadata": {},
   "outputs": [
    {
     "data": {
      "text/plain": [
       "(50000, 2)"
      ]
     },
     "execution_count": 13,
     "metadata": {},
     "output_type": "execute_result"
    }
   ],
   "source": [
    "df_count_upload = df_file_upload[['Id', 'FileID']].drop_duplicates().dropna()\n",
    "df_count_upload.shape"
   ]
  },
  {
   "cell_type": "code",
   "execution_count": 14,
   "metadata": {
    "collapsed": true
   },
   "outputs": [],
   "source": [
    "df_count_upload = df_count_upload.groupby('Id')['FileID'].count().reset_index()"
   ]
  },
  {
   "cell_type": "code",
   "execution_count": 15,
   "metadata": {},
   "outputs": [
    {
     "data": {
      "text/html": [
       "<div>\n",
       "<style>\n",
       "    .dataframe thead tr:only-child th {\n",
       "        text-align: right;\n",
       "    }\n",
       "\n",
       "    .dataframe thead th {\n",
       "        text-align: left;\n",
       "    }\n",
       "\n",
       "    .dataframe tbody tr th {\n",
       "        vertical-align: top;\n",
       "    }\n",
       "</style>\n",
       "<table border=\"1\" class=\"dataframe\">\n",
       "  <thead>\n",
       "    <tr style=\"text-align: right;\">\n",
       "      <th></th>\n",
       "      <th>Id</th>\n",
       "      <th>FileID</th>\n",
       "    </tr>\n",
       "  </thead>\n",
       "  <tbody>\n",
       "    <tr>\n",
       "      <th>7677</th>\n",
       "      <td>6319293</td>\n",
       "      <td>679</td>\n",
       "    </tr>\n",
       "    <tr>\n",
       "      <th>8638</th>\n",
       "      <td>6443356</td>\n",
       "      <td>543</td>\n",
       "    </tr>\n",
       "    <tr>\n",
       "      <th>1527</th>\n",
       "      <td>11001585</td>\n",
       "      <td>474</td>\n",
       "    </tr>\n",
       "    <tr>\n",
       "      <th>7937</th>\n",
       "      <td>6351026</td>\n",
       "      <td>371</td>\n",
       "    </tr>\n",
       "    <tr>\n",
       "      <th>10360</th>\n",
       "      <td>6707117</td>\n",
       "      <td>370</td>\n",
       "    </tr>\n",
       "  </tbody>\n",
       "</table>\n",
       "</div>"
      ],
      "text/plain": [
       "             Id  FileID\n",
       "7677    6319293     679\n",
       "8638    6443356     543\n",
       "1527   11001585     474\n",
       "7937    6351026     371\n",
       "10360   6707117     370"
      ]
     },
     "execution_count": 15,
     "metadata": {},
     "output_type": "execute_result"
    }
   ],
   "source": [
    "df_count_upload.sort_values(by='FileID', ascending=False, inplace=True)\n",
    "df_count_upload.head()"
   ]
  },
  {
   "cell_type": "code",
   "execution_count": 16,
   "metadata": {
    "collapsed": true
   },
   "outputs": [],
   "source": [
    "#df_count_upload['FileID'].value_counts()"
   ]
  },
  {
   "cell_type": "code",
   "execution_count": 17,
   "metadata": {},
   "outputs": [
    {
     "name": "stdout",
     "output_type": "stream",
     "text": [
      "('media', 4.570383912248629)\n",
      "('mediana', 1.0)\n"
     ]
    }
   ],
   "source": [
    "print('media', df_count_upload['FileID'].mean())\n",
    "print('mediana',df_count_upload['FileID'].median())"
   ]
  },
  {
   "cell_type": "code",
   "execution_count": 18,
   "metadata": {},
   "outputs": [
    {
     "data": {
      "image/png": "[encoded data removed]",
      "text/plain": [
       "<matplotlib.figure.Figure at 0x7f2b61364d90>"
      ]
     },
     "metadata": {},
     "output_type": "display_data"
    }
   ],
   "source": [
    "plt.hist(df_count_upload['FileID'], alpha=0.7, color='orange', bins=75)\n",
    "\n",
    "plt.xlabel('uploads por usuario')  \n",
    "plt.ylabel('frequencia')\n",
    "plt.xlim(0,100)\n",
    "plt.savefig('hist_uploads_user.png', dpi=100);"
   ]
  },
  {
   "cell_type": "markdown",
   "metadata": {},
   "source": [
    "# retirando as informações importantes para clusterização\n"
   ]
  },
  {
   "cell_type": "code",
   "execution_count": 19,
   "metadata": {
    "collapsed": true
   },
   "outputs": [],
   "source": [
    "df_cluster = pd.merge(df, df_count_upload, on='Id')"
   ]
  },
  {
   "cell_type": "code",
   "execution_count": 20,
   "metadata": {},
   "outputs": [
    {
     "data": {
      "text/html": [
       "<div>\n",
       "<style>\n",
       "    .dataframe thead tr:only-child th {\n",
       "        text-align: right;\n",
       "    }\n",
       "\n",
       "    .dataframe thead th {\n",
       "        text-align: left;\n",
       "    }\n",
       "\n",
       "    .dataframe tbody tr th {\n",
       "        vertical-align: top;\n",
       "    }\n",
       "</style>\n",
       "<table border=\"1\" class=\"dataframe\">\n",
       "  <thead>\n",
       "    <tr style=\"text-align: right;\">\n",
       "      <th></th>\n",
       "      <th>Id</th>\n",
       "      <th>tempo_user</th>\n",
       "      <th>FileID</th>\n",
       "    </tr>\n",
       "  </thead>\n",
       "  <tbody>\n",
       "    <tr>\n",
       "      <th>0</th>\n",
       "      <td>6244000</td>\n",
       "      <td>205.0</td>\n",
       "      <td>1</td>\n",
       "    </tr>\n",
       "    <tr>\n",
       "      <th>1</th>\n",
       "      <td>6252042</td>\n",
       "      <td>204.0</td>\n",
       "      <td>1</td>\n",
       "    </tr>\n",
       "    <tr>\n",
       "      <th>2</th>\n",
       "      <td>6255211</td>\n",
       "      <td>203.0</td>\n",
       "      <td>1</td>\n",
       "    </tr>\n",
       "    <tr>\n",
       "      <th>3</th>\n",
       "      <td>6248658</td>\n",
       "      <td>203.0</td>\n",
       "      <td>2</td>\n",
       "    </tr>\n",
       "    <tr>\n",
       "      <th>4</th>\n",
       "      <td>6245261</td>\n",
       "      <td>203.0</td>\n",
       "      <td>17</td>\n",
       "    </tr>\n",
       "  </tbody>\n",
       "</table>\n",
       "</div>"
      ],
      "text/plain": [
       "        Id  tempo_user  FileID\n",
       "0  6244000       205.0       1\n",
       "1  6252042       204.0       1\n",
       "2  6255211       203.0       1\n",
       "3  6248658       203.0       2\n",
       "4  6245261       203.0      17"
      ]
     },
     "execution_count": 20,
     "metadata": {},
     "output_type": "execute_result"
    }
   ],
   "source": [
    "df_cluster.head()"
   ]
  },
  {
   "cell_type": "code",
   "execution_count": 21,
   "metadata": {
    "collapsed": true
   },
   "outputs": [],
   "source": [
    "df_cluster.columns = ['Id', 'tempo_base_upload', 'qnt_upload']"
   ]
  },
  {
   "cell_type": "code",
   "execution_count": 22,
   "metadata": {},
   "outputs": [
    {
     "data": {
      "text/html": [
       "<div>\n",
       "<style>\n",
       "    .dataframe thead tr:only-child th {\n",
       "        text-align: right;\n",
       "    }\n",
       "\n",
       "    .dataframe thead th {\n",
       "        text-align: left;\n",
       "    }\n",
       "\n",
       "    .dataframe tbody tr th {\n",
       "        vertical-align: top;\n",
       "    }\n",
       "</style>\n",
       "<table border=\"1\" class=\"dataframe\">\n",
       "  <thead>\n",
       "    <tr style=\"text-align: right;\">\n",
       "      <th></th>\n",
       "      <th>Id</th>\n",
       "      <th>tempo_base_upload</th>\n",
       "      <th>qnt_upload</th>\n",
       "    </tr>\n",
       "  </thead>\n",
       "  <tbody>\n",
       "    <tr>\n",
       "      <th>0</th>\n",
       "      <td>6244000</td>\n",
       "      <td>205.0</td>\n",
       "      <td>1</td>\n",
       "    </tr>\n",
       "    <tr>\n",
       "      <th>1</th>\n",
       "      <td>6252042</td>\n",
       "      <td>204.0</td>\n",
       "      <td>1</td>\n",
       "    </tr>\n",
       "    <tr>\n",
       "      <th>2</th>\n",
       "      <td>6255211</td>\n",
       "      <td>203.0</td>\n",
       "      <td>1</td>\n",
       "    </tr>\n",
       "    <tr>\n",
       "      <th>3</th>\n",
       "      <td>6248658</td>\n",
       "      <td>203.0</td>\n",
       "      <td>2</td>\n",
       "    </tr>\n",
       "    <tr>\n",
       "      <th>4</th>\n",
       "      <td>6245261</td>\n",
       "      <td>203.0</td>\n",
       "      <td>17</td>\n",
       "    </tr>\n",
       "  </tbody>\n",
       "</table>\n",
       "</div>"
      ],
      "text/plain": [
       "        Id  tempo_base_upload  qnt_upload\n",
       "0  6244000              205.0           1\n",
       "1  6252042              204.0           1\n",
       "2  6255211              203.0           1\n",
       "3  6248658              203.0           2\n",
       "4  6245261              203.0          17"
      ]
     },
     "execution_count": 22,
     "metadata": {},
     "output_type": "execute_result"
    }
   ],
   "source": [
    "df_cluster.head()"
   ]
  },
  {
   "cell_type": "code",
   "execution_count": 23,
   "metadata": {
    "collapsed": true
   },
   "outputs": [],
   "source": [
    "df_cluster.to_csv('df_cluster_upload.csv', index=False)"
   ]
  },
  {
   "cell_type": "code",
   "execution_count": null,
   "metadata": {
    "collapsed": true
   },
   "outputs": [],
   "source": []
  }
 ],
 "metadata": {
  "kernelspec": {
   "display_name": "Python 2",
   "language": "python",
   "name": "python2"
  },
  "language_info": {
   "codemirror_mode": {
    "name": "ipython",
    "version": 2
   },
   "file_extension": ".py",
   "mimetype": "text/x-python",
   "name": "python",
   "nbconvert_exporter": "python",
   "pygments_lexer": "ipython2",
   "version": "2.7.13"
  }
 },
 "nbformat": 4,
 "nbformat_minor": 2
}
